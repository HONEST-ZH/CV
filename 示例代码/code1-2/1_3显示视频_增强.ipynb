{
 "cells": [
  {
   "cell_type": "code",
   "execution_count": 20,
   "metadata": {
    "scrolled": true
   },
   "outputs": [],
   "source": [
    "import cv2\n",
    "import matplotlib.pyplot as plt\n",
    "import numpy as np\n",
    "#matplotlib inline"
   ]
  },
  {
   "cell_type": "code",
   "execution_count": 21,
   "metadata": {},
   "outputs": [],
   "source": [
    "def equalize_hist(im, nbr_bins=256):\n",
    "    \"\"\"对一幅灰度图像进行直方图均衡化\"\"\"\n",
    "    # 图像直方图统计\n",
    "    imhist, bins = np.histogram(im.flatten(), nbr_bins)\n",
    "    # 累积分布函数\n",
    "    cdf = imhist.cumsum()\n",
    "    cdf = 255.0 * cdf / cdf[-1]\n",
    "    # 使用累积分布函数的线性插值，计算新的像素值\n",
    "    im2 = np.interp(im.flatten(), bins[:-1], cdf)  # 分段线性插值函数\n",
    "    return im2.reshape(im.shape), cdf"
   ]
  },
  {
   "cell_type": "code",
   "execution_count": 22,
   "metadata": {
    "scrolled": true
   },
   "outputs": [],
   "source": [
    "v = cv2.VideoCapture('video/v.mp4')"
   ]
  },
  {
   "cell_type": "code",
   "execution_count": 23,
   "metadata": {
    "scrolled": true
   },
   "outputs": [],
   "source": [
    "if v.isOpened():\n",
    "    open,frame = v.read()\n",
    "else:\n",
    "    open = False"
   ]
  },
  {
   "cell_type": "code",
   "execution_count": 24,
   "metadata": {},
   "outputs": [],
   "source": [
    "while open:\n",
    "    re,frame = v.read()\n",
    "    if frame is None:\n",
    "        break\n",
    "    if re==True:\n",
    "        #frame = cv2.cvtColor(frame,cv2.COLOR_BGR2GRAY)    ###gray\n",
    "        #frame = frame[500:800,500:800]                    ###box\n",
    "        frame = cv2.resize(frame,(400,200))               ###scale,(width,height)\n",
    "        #frame = cv2.resize(frame,(0,0),fx=0.4,fy=0.8)      \n",
    "        frame,cdf = equalize_hist(frame)\n",
    "        frame = frame/255.0\n",
    "        cv2.imshow('result',frame)\n",
    "        if cv2.waitKey(10) & 0xFF == 27:\n",
    "            break\n",
    "v.release()\n",
    "cv2.destroyAllWindows()"
   ]
  },
  {
   "cell_type": "code",
   "execution_count": null,
   "metadata": {},
   "outputs": [],
   "source": []
  }
 ],
 "metadata": {
  "kernelspec": {
   "display_name": "Python 3 (ipykernel)",
   "language": "python",
   "name": "python3"
  },
  "language_info": {
   "codemirror_mode": {
    "name": "ipython",
    "version": 3
   },
   "file_extension": ".py",
   "mimetype": "text/x-python",
   "name": "python",
   "nbconvert_exporter": "python",
   "pygments_lexer": "ipython3",
   "version": "3.9.16"
  },
  "varInspector": {
   "cols": {
    "lenName": 16,
    "lenType": 16,
    "lenVar": 40
   },
   "kernels_config": {
    "python": {
     "delete_cmd_postfix": "",
     "delete_cmd_prefix": "del ",
     "library": "var_list.py",
     "varRefreshCmd": "print(var_dic_list())"
    },
    "r": {
     "delete_cmd_postfix": ") ",
     "delete_cmd_prefix": "rm(",
     "library": "var_list.r",
     "varRefreshCmd": "cat(var_dic_list()) "
    }
   },
   "types_to_exclude": [
    "module",
    "function",
    "builtin_function_or_method",
    "instance",
    "_Feature"
   ],
   "window_display": false
  }
 },
 "nbformat": 4,
 "nbformat_minor": 2
}
