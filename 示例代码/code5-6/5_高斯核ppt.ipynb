{
 "cells": [
  {
   "cell_type": "code",
   "execution_count": 7,
   "metadata": {},
   "outputs": [],
   "source": [
    "import cv2\n",
    "import matplotlib.pyplot as plt\n",
    "import numpy as np\n",
    "import math"
   ]
  },
  {
   "cell_type": "code",
   "execution_count": 8,
   "metadata": {},
   "outputs": [],
   "source": [
    "def show(img):\n",
    "    cv2.imshow('img',img)\n",
    "    cv2.waitKey(0)\n",
    "    cv2.destroyAllWindows()"
   ]
  },
  {
   "cell_type": "code",
   "execution_count": 9,
   "metadata": {},
   "outputs": [],
   "source": [
    "def gausskernel(size,sigma):\n",
    "    #sigma=1.5\n",
    "    gausskernel=np.zeros((size,size),np.float32)\n",
    "    for i in range (size):\n",
    "        for j in range (size):\n",
    "            numerator=math.pow(i-1,2)+pow(j-1,2)\n",
    "            gausskernel[i,j]=math.exp(-numerator/(2*math.pow(sigma,2)))/math.pow((2*math.pi*sigma**2),0.5) # 求高斯卷积\n",
    "    sum=np.sum(gausskernel)   # 求和\n",
    "    kernel=gausskernel/sum   # 归一化\n",
    "    return kernel"
   ]
  },
  {
   "cell_type": "code",
   "execution_count": 10,
   "metadata": {},
   "outputs": [],
   "source": [
    "def gaussfilter(img):\n",
    "    h=img.shape[0]\n",
    "    w=img.shape[1]\n",
    "    img1=np.zeros((h,w),np.uint8)\n",
    "    kernel=gausskernel(3,1.5)   # 计算高斯卷积核\n",
    "    for i in range (1,h-1):\n",
    "        for j in range (1,w-1):\n",
    "            sum=0\n",
    "            for k in range(-1,2):\n",
    "                for l in range(-1,2):\n",
    "                    sum+=img[i+k,j+l]*kernel[k+1,l+1]   # 高斯滤波\n",
    "            img1[i,j]=sum\n",
    "    return img1"
   ]
  },
  {
   "cell_type": "code",
   "execution_count": 11,
   "metadata": {},
   "outputs": [
    {
     "name": "stdout",
     "output_type": "stream",
     "text": [
      "[[0.09474166 0.11831801 0.09474166]\n",
      " [0.11831801 0.14776132 0.11831801]\n",
      " [0.09474166 0.11831801 0.09474166]]\n"
     ]
    }
   ],
   "source": [
    "kernel = gausskernel(3,1.5)\n",
    "print(kernel)"
   ]
  },
  {
   "cell_type": "code",
   "execution_count": 12,
   "metadata": {},
   "outputs": [
    {
     "name": "stdout",
     "output_type": "stream",
     "text": [
      "[[ 0  0  0]\n",
      " [ 0 25  0]\n",
      " [ 0  0  0]]\n"
     ]
    }
   ],
   "source": [
    "img = np.array([[14,15,16],\n",
    "              [24,25,26],\n",
    "              [34,35,36]])\n",
    "filtered_img1 = gaussfilter(img)\n",
    "print(filtered_img1)"
   ]
  },
  {
   "cell_type": "code",
   "execution_count": null,
   "metadata": {},
   "outputs": [],
   "source": []
  }
 ],
 "metadata": {
  "kernelspec": {
   "display_name": "Python 3 (ipykernel)",
   "language": "python",
   "name": "python3"
  },
  "language_info": {
   "codemirror_mode": {
    "name": "ipython",
    "version": 3
   },
   "file_extension": ".py",
   "mimetype": "text/x-python",
   "name": "python",
   "nbconvert_exporter": "python",
   "pygments_lexer": "ipython3",
   "version": "3.8.13"
  },
  "varInspector": {
   "cols": {
    "lenName": 16,
    "lenType": 16,
    "lenVar": 40
   },
   "kernels_config": {
    "python": {
     "delete_cmd_postfix": "",
     "delete_cmd_prefix": "del ",
     "library": "var_list.py",
     "varRefreshCmd": "print(var_dic_list())"
    },
    "r": {
     "delete_cmd_postfix": ") ",
     "delete_cmd_prefix": "rm(",
     "library": "var_list.r",
     "varRefreshCmd": "cat(var_dic_list()) "
    }
   },
   "types_to_exclude": [
    "module",
    "function",
    "builtin_function_or_method",
    "instance",
    "_Feature"
   ],
   "window_display": false
  }
 },
 "nbformat": 4,
 "nbformat_minor": 2
}
