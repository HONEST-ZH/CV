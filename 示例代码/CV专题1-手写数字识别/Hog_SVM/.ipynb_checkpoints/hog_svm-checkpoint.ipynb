{
 "cells": [
  {
   "cell_type": "code",
   "execution_count": null,
   "id": "b8bf82ef",
   "metadata": {},
   "outputs": [],
   "source": [
    "import cv2\n",
    "import numpy as np\n",
    "import glob"
   ]
  },
  {
   "cell_type": "code",
   "execution_count": null,
   "id": "5076dcce",
   "metadata": {},
   "outputs": [],
   "source": [
    "#=============抗扭斜函数=================\n",
    "def deskew(img):\n",
    "    m = cv2.moments(img)\n",
    "    if abs(m['mu02']) < 1e-2:\n",
    "        return img.copy()\n",
    "    skew = m['mu11']/m['mu02']\n",
    "    s=20\n",
    "    M = np.float32([[1, skew, -0.5*s*skew], [0, 1, 0]])\n",
    "    affine_flags = cv2.WARP_INVERSE_MAP|cv2.INTER_LINEAR\n",
    "    size=(20,20)   #每个数字的图像的尺寸\n",
    "    img = cv2.warpAffine(img,M,size,flags=affine_flags)\n",
    "    return img"
   ]
  },
  {
   "cell_type": "code",
   "execution_count": null,
   "id": "96d8103c",
   "metadata": {},
   "outputs": [],
   "source": [
    "#=============HOG函数=================\n",
    "def hog(img):\n",
    "    gx = cv2.Sobel(img, cv2.CV_32F, 1, 0)\n",
    "    gy = cv2.Sobel(img, cv2.CV_32F, 0, 1)\n",
    "    mag, ang = cv2.cartToPolar(gx, gy)\n",
    "    bins = np.int32(16*ang/(2*np.pi))    \n",
    "    bin_cells = bins[:10,:10], bins[10:,:10], bins[:10,10:], bins[10:,10:]\n",
    "    mag_cells = mag[:10,:10], mag[10:,:10], mag[:10,10:], mag[10:,10:]\n",
    "    hists = [np.bincount(b.ravel(), m.ravel(),16) for b, m in zip(bin_cells, mag_cells)]\n",
    "    hist = np.hstack(hists) \n",
    "    return hist"
   ]
  },
  {
   "cell_type": "code",
   "execution_count": null,
   "id": "af1c53f2",
   "metadata": {},
   "outputs": [],
   "source": [
    "# TRAIN_NUM=8\n",
    "# TEST_NUM=2\n",
    "#=============getData函数，获取训练数据、测试数据及对应标签=================\n",
    "def getData():\n",
    "    data=[]   #存储所有数字的所有图像\n",
    "    for i in range(0,10):\n",
    "        iTen=glob.glob('data/'+str(i)+'/*.*')   # 所有图像的文件名\n",
    "        num=[]      #临时列表，每次循环用来存储某一个数字的所有图像\n",
    "        for number in iTen:    #逐个提取文件名\n",
    "            # step 1:预处理（读取图像，色彩转换、大小转换）\n",
    "            image=cv2.imread(number)   #逐个读取文件，放入image中\n",
    "            image=cv2.cvtColor(image,cv2.COLOR_BGR2GRAY)   #彩色——>灰色\n",
    "            # x=255-x   #必要时需要做反色处理：前景背景切换\n",
    "            image=cv2.resize(image,(20,20))   #调整大小\n",
    "            # step2：倾斜校正\n",
    "            image=deskew(image)   #倾斜校正\n",
    "            # step3：获取hog值\n",
    "            hogValue=hog(image)   #获取hog值\n",
    "            num.append(hogValue)  #把当前图像的hog值放入num中\n",
    "        data.append(num)  #把单个数字的所有hogvalue放入data，每个数字所有hog值占一行\n",
    "    x=np.array(data)\n",
    "    # step4：划分数据集（训练集、测试集）\n",
    "    trainData=np.float32(x[:,:8])\n",
    "    testData=np.float32(x[:,8:])\n",
    "    # step5：塑形，调整为64列\n",
    "    trainData=trainData.reshape(-1,64)    #训练图像调整为64列形式\n",
    "    testData=testData.reshape(-1,64)     #测试图像调整为64列形式 \n",
    "    # step6：打标签\n",
    "    trainLabels = np.repeat(np.arange(10),8)[:,np.newaxis]      #训练图像贴标签\n",
    "    TestLabels = np.repeat(np.arange(10),2)[:,np.newaxis]       #测试图像贴标签\n",
    "    return  trainData,trainLabels,testData,TestLabels"
   ]
  },
  {
   "cell_type": "code",
   "execution_count": null,
   "id": "19b65d7b",
   "metadata": {},
   "outputs": [],
   "source": [
    "#=============SVM函数，构造svm模型、使用svm模型=================\n",
    "def SVM(trainData,trainLabels,testData,TestLabels):\n",
    "    #----------构造svm------------------\n",
    "    svm = cv2.ml.SVM_create()               # 初始化\n",
    "    svm.setKernel(cv2.ml.SVM_LINEAR)        # 设置kernel类型\n",
    "    svm.train(trainData, cv2.ml.ROW_SAMPLE, trainLabels)  #训练svm\n",
    "    #----------使用svm------------------\n",
    "    result = svm.predict(testData)[1]       #获取识别标签\n",
    "    mask = result==TestLabels               #比较识别结果是否等于实际标签\n",
    "    correct = np.count_nonzero(mask)        #计算非零值（相等）的个数\n",
    "    accuracy = correct*100.0/result.size    #计算准确率（相等个数/全部）\n",
    "    return accuracy"
   ]
  },
  {
   "cell_type": "code",
   "execution_count": null,
   "id": "b9622a82",
   "metadata": {},
   "outputs": [],
   "source": [
    "#=============主程序=================\n",
    "trainData,trainLabels,testData,TestLabels=getData()\n",
    "accuracy=SVM(trainData,trainLabels,testData,TestLabels)\n",
    "print(\"识别准确率为：\",accuracy)"
   ]
  }
 ],
 "metadata": {
  "kernelspec": {
   "display_name": "Python 3 (ipykernel)",
   "language": "python",
   "name": "python3"
  },
  "language_info": {
   "codemirror_mode": {
    "name": "ipython",
    "version": 3
   },
   "file_extension": ".py",
   "mimetype": "text/x-python",
   "name": "python",
   "nbconvert_exporter": "python",
   "pygments_lexer": "ipython3",
   "version": "3.9.16"
  }
 },
 "nbformat": 4,
 "nbformat_minor": 5
}
