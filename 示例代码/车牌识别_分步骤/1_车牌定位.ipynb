{
 "cells": [
  {
   "cell_type": "code",
   "execution_count": 5,
   "outputs": [],
   "source": [
    "import cv2\n",
    "# ================读取原始图像===================\n",
    "image = cv2.imread(\"gua.jpg\")       #读取原始图像\n",
    "rawImage=image.copy()               #复制原始图像\n",
    "cv2.imshow(\"original\",image)  #测试语句，观察原始图像\n",
    "\n",
    "# ========== 灰度变换O1（色彩空间转换BGR-->GRAY)===========\n",
    "image = cv2.cvtColor(image, cv2.COLOR_BGR2GRAY)\n",
    "cv2.imshow(\"gray\", image)  # 测试语句，查看灰度图像\n",
    "\n",
    "# ===========滤波处理O2（去噪）=====================\n",
    "image = cv2.GaussianBlur(image, (3, 3), 0)\n",
    "cv2.imshow(\"GaussianBlur\",image)  #测试语句，查看滤波结果（去噪）\n",
    "\n",
    "# ==============边缘检测O3（Sobel算子、X方向边缘梯度）===============\n",
    "SobelX = cv2.Sobel(image, cv2.CV_16S, 1, 0)\n",
    "absX = cv2.convertScaleAbs(SobelX)  # 映射到[0.255]内\n",
    "image = absX\n",
    "cv2.imshow(\"soblex\",image)  #测试语句，图像边缘\n",
    "\n",
    "# ===============二值化O4（阈值处理）==========================\n",
    "ret, image = cv2.threshold(image, 0, 255, cv2.THRESH_OTSU)\n",
    "cv2.imshow(\"imageThreshold\",image)   #测试语句，查看处理结果\n",
    "\n",
    "# ===========闭运算O5：先膨胀后腐蚀，车牌各个字符是分散的，让车牌构成一体=======\n",
    "kernelX = cv2.getStructuringElement(cv2.MORPH_RECT, (17, 5))\n",
    "image = cv2.morphologyEx(image, cv2.MORPH_CLOSE, kernelX)\n",
    "cv2.imshow(\"imageCLOSE\",image)    #测试语句，查看处理结果\n",
    "\n",
    "# =============开运算O6：先腐蚀后膨胀，去除噪声==============\n",
    "kernelY = cv2.getStructuringElement(cv2.MORPH_RECT, (1, 19))\n",
    "image = cv2.morphologyEx(image, cv2.MORPH_OPEN, kernelY)\n",
    "cv2.imshow(\"imageOPEN\",image)\n",
    "\n",
    "# ================滤波O7：中值滤波，去除噪声=======================\n",
    "image = cv2.medianBlur(image, 15)\n",
    "cv2.imshow(\"imagemedianBlur\",image)    #测试语句，查看处理结果\n",
    "# =================查找轮廓O8==================\n",
    "contours, hierarchy = cv2.findContours(image, cv2.RETR_TREE, cv2.CHAIN_APPROX_SIMPLE)# cv4.0\n",
    "image = cv2.drawContours(rawImage.copy(), contours, -1, (0, 0, 255), 3)\n",
    "cv2.imshow('imagecc', image)#测试语句，查看轮廓\n",
    "\n",
    "#============定位车牌O9：逐个遍历轮廓，将宽度>3倍高度的轮廓确定为车牌============\n",
    "for item in contours:\n",
    "    rect = cv2.boundingRect(item)\n",
    "    x = rect[0]\n",
    "    y = rect[1]\n",
    "    weight = rect[2]\n",
    "    height = rect[3]\n",
    "    if weight > (height * 3):\n",
    "        plate = rawImage[y:y + height, x:x + weight]\n",
    "        \n",
    "#================显示提取车牌============================\n",
    "cv2.imshow('plate',plate)  # 测试语句：查看提取车牌\n",
    "cv2.waitKey()\n",
    "cv2.destroyAllWindows()\n"
   ],
   "metadata": {
    "collapsed": false,
    "ExecuteTime": {
     "end_time": "2024-04-27T09:04:17.773894700Z",
     "start_time": "2024-04-27T09:02:36.870589400Z"
    }
   },
   "id": "fd77b6f8"
  },
  {
   "cell_type": "code",
   "execution_count": null,
   "outputs": [],
   "source": [],
   "metadata": {
    "collapsed": false
   },
   "id": "78dc4d6555c5d0d8"
  }
 ],
 "metadata": {
  "kernelspec": {
   "display_name": "Python 3 (ipykernel)",
   "language": "python",
   "name": "python3"
  },
  "language_info": {
   "codemirror_mode": {
    "name": "ipython",
    "version": 3
   },
   "file_extension": ".py",
   "mimetype": "text/x-python",
   "name": "python",
   "nbconvert_exporter": "python",
   "pygments_lexer": "ipython3",
   "version": "3.9.16"
  }
 },
 "nbformat": 4,
 "nbformat_minor": 5
}
