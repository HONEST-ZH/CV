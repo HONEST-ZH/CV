{
 "cells": [
  {
   "cell_type": "code",
   "execution_count": null,
   "metadata": {},
   "outputs": [],
   "source": [
    "import cv2\n",
    "import matplotlib.pyplot as plt\n",
    "import numpy as np\n",
    "import math"
   ]
  },
  {
   "cell_type": "code",
   "execution_count": null,
   "metadata": {},
   "outputs": [],
   "source": [
    "def myfilter(img,kernel):\n",
    "    h=img.shape[0]\n",
    "    w=img.shape[1]\n",
    "    img1=np.zeros((h,w),np.int8)\n",
    "    for i in range (1,h-1):\n",
    "        for j in range (1,w-1):\n",
    "            sum=0\n",
    "            for k in range(-1,2):\n",
    "                for l in range(-1,2):\n",
    "                    sum+=img[i+k,j+l]*kernel[k+1,l+1]   \n",
    "            img1[i,j]=sum\n",
    "    return img1"
   ]
  },
  {
   "cell_type": "code",
   "execution_count": null,
   "metadata": {},
   "outputs": [],
   "source": [
    "# img = np.array([[1,0,0],\n",
    "#                 [0,1,0],\n",
    "#                 [0,0,1]])\n",
    "\n",
    "img = np.array([[1,0,0,0,0,1],\n",
    "                [0,1,0,0,1,0],\n",
    "                [0,0,1,1,0,0],\n",
    "                [1,0,0,0,1,0],\n",
    "                [0,1,0,0,1,0],\n",
    "                [0,0,1,0,1,0]])\n",
    "\n",
    "kernel = np.array([[1,-1, -1],\n",
    "                   [-1,1, -1],\n",
    "                   [-1,-1, 1]])\n",
    "#print(kernel)\n",
    "filtered_img1 = myfilter(img,kernel)\n",
    "#filtered_img2= cv2.filter2D(img.astype('float32'),-1,kernel)\n",
    "print(filtered_img1)\n",
    "#print(filtered_img2)"
   ]
  },
  {
   "cell_type": "code",
   "execution_count": null,
   "metadata": {},
   "outputs": [],
   "source": []
  }
 ],
 "metadata": {
  "kernelspec": {
   "display_name": "Python 3 (ipykernel)",
   "language": "python",
   "name": "python3"
  },
  "language_info": {
   "codemirror_mode": {
    "name": "ipython",
    "version": 3
   },
   "file_extension": ".py",
   "mimetype": "text/x-python",
   "name": "python",
   "nbconvert_exporter": "python",
   "pygments_lexer": "ipython3",
   "version": "3.9.16"
  },
  "varInspector": {
   "cols": {
    "lenName": 16,
    "lenType": 16,
    "lenVar": 40
   },
   "kernels_config": {
    "python": {
     "delete_cmd_postfix": "",
     "delete_cmd_prefix": "del ",
     "library": "var_list.py",
     "varRefreshCmd": "print(var_dic_list())"
    },
    "r": {
     "delete_cmd_postfix": ") ",
     "delete_cmd_prefix": "rm(",
     "library": "var_list.r",
     "varRefreshCmd": "cat(var_dic_list()) "
    }
   },
   "types_to_exclude": [
    "module",
    "function",
    "builtin_function_or_method",
    "instance",
    "_Feature"
   ],
   "window_display": false
  }
 },
 "nbformat": 4,
 "nbformat_minor": 2
}
