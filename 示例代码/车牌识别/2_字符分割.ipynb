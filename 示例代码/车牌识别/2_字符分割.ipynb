{
 "cells": [
  {
   "cell_type": "code",
   "execution_count": 2,
   "id": "e94efcfb",
   "metadata": {},
   "outputs": [
    {
     "name": "stdout",
     "output_type": "stream",
     "text": [
      "共找到轮廓个数： 14\n"
     ]
    }
   ],
   "source": [
    "import cv2\n",
    "\n",
    "#=====读取车牌=====\n",
    "image=cv2.imread(\"gg.bmp\")\n",
    "o=image.copy()  #复制原始图像，用于绘制轮廓用\n",
    "cv2.imshow(\"original\",image)\n",
    "\n",
    "#=============图像预处理===============\n",
    "# -------色彩空间转换F1-------\n",
    "image = cv2.cvtColor(image, cv2.COLOR_BGR2GRAY)\n",
    "cv2.imshow(\"gray\",image)\n",
    "# -------图像去噪灰度处理F2-------\n",
    "image = cv2.GaussianBlur(image, (3, 3), 0)\n",
    "cv2.imshow(\"GaussianBlur\",image)\n",
    "\n",
    "# -------阈值处理（二值化）F3 -------  \n",
    "ret, image = cv2.threshold(image, 0, 255, cv2.THRESH_OTSU)\n",
    "cv2.imshow(\"threshold\",image)\n",
    "\n",
    "#-------膨胀处理F4，让一个字构成一个整体（大多数字不是一体的，是分散的）--------\n",
    "kernel = cv2.getStructuringElement(cv2.MORPH_RECT, (2, 2))\n",
    "image = cv2.dilate(image, kernel)\n",
    "cv2.imshow(\"dilate\",image)\n",
    "\n",
    "#=============拆分车牌，将车牌内各个字符分离===============\n",
    "# -------查找轮廓F5，各个字符的轮廓及噪声点轮廓---------------\n",
    "binary,contours, hierarchy = cv2.findContours(image, cv2.RETR_EXTERNAL, cv2.CHAIN_APPROX_SIMPLE)\n",
    "x = cv2.drawContours(o.copy(), contours, -1, (0, 0, 255), 1)\n",
    "cv2.imshow(\"contours\",x)\n",
    "print(\"共找到轮廓个数：\",len(contours))  #测试语句：看看找到多少个轮廓\n",
    "\n",
    "# -------------遍历所有轮廓,寻找最小包围框F6------------------\n",
    "chars = []\n",
    "for item in contours:\n",
    "    rect = cv2.boundingRect(item)\n",
    "    x,y,w,h = cv2.boundingRect(item)\n",
    "    chars.append(rect)\n",
    "    cv2.rectangle(o,(x,y),(x+w,y+h),(0,0,255),1)\n",
    "cv2.imshow(\"contours2\",o) \n",
    "# --------------将包围框按照x轴坐标值排序（自左向右排序）--------------\n",
    "chars = sorted(chars,key=lambda s:s[0],reverse=False)    \n",
    "\n",
    "# --------将字符的轮廓筛选出来F7-------------------\n",
    "#逐个遍历包围框，高宽比在1.5-8之间，宽度大于3个像素，判定为字符\n",
    "plateChars = []\n",
    "for word in chars:\n",
    "    if (word[3] > (word[2] * 1.5)) and (word[3] < (word[2] * 8)) and (word[2] > 3):\n",
    "        plateChar = image[word[1]:word[1] + word[3], word[0]:word[0] + word[2]]\n",
    "        plateChars.append(plateChar)\n",
    "        \n",
    "#--------------测试语句：查看各个字符-------------------\n",
    "for i,im in enumerate(plateChars):\n",
    "    cv2.imshow(\"char\"+str(i),im)\n",
    "    \n",
    "cv2.waitKey()\n",
    "cv2.destroyAllWindows()"
   ]
  },
  {
   "cell_type": "code",
   "execution_count": null,
   "id": "955f79cb",
   "metadata": {},
   "outputs": [],
   "source": []
  }
 ],
 "metadata": {
  "kernelspec": {
   "display_name": "Python 3 (ipykernel)",
   "language": "python",
   "name": "python3"
  },
  "language_info": {
   "codemirror_mode": {
    "name": "ipython",
    "version": 3
   },
   "file_extension": ".py",
   "mimetype": "text/x-python",
   "name": "python",
   "nbconvert_exporter": "python",
   "pygments_lexer": "ipython3",
   "version": "3.9.16"
  }
 },
 "nbformat": 4,
 "nbformat_minor": 5
}
