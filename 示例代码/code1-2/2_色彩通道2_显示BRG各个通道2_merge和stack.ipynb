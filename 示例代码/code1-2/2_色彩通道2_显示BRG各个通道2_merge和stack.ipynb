{
 "cells": [
  {
   "cell_type": "markdown",
   "id": "0374cee3",
   "metadata": {},
   "source": [
    "### 只用1个通道的数据"
   ]
  },
  {
   "cell_type": "code",
   "execution_count": null,
   "id": "171d35ab",
   "metadata": {},
   "outputs": [],
   "source": [
    "    import cv2\n",
    "    import numpy as np\n",
    "    \n",
    "    img1 = cv2.imread(\"image/LenaNoise.png\", flags=1)  # flags=1 读取彩色图像(BGR)\n",
    "    #cv2.imshow(\"BGR\", img1)  # BGR 图像\n",
    "\n",
    "    # BGR 通道拆分\n",
    "    bImg, gImg, rImg = cv2.split(img1)  # 拆分为 BGR 独立通道\n"
   ]
  },
  {
   "cell_type": "code",
   "execution_count": null,
   "id": "e6904445",
   "metadata": {},
   "outputs": [],
   "source": [
    "method  = 3\n",
    "if method==1:  #方法1，数组赋值\n",
    "    imgZeros = np.zeros_like(img1)  # 创建与 img1 相同形状的黑色图像\n",
    "    BImg = imgZeros\n",
    "    BImg[:,:,0] = bImg  # 在黑色图像模板添加红色分量 rImg\n",
    "elif method==2:\n",
    "    #方法2，merge方法\n",
    "    zeros = np.zeros(img1.shape[:2],dtype = 'uint8')\n",
    "    print(img1.shape,zeros.shape)\n",
    "    BImg = cv2.merge([bImg,zeros,zeros])\n",
    "else: #方法3，stack方法\n",
    "    zeros = np.zeros(bImg.shape,dtype = 'uint8')\n",
    "    print(img1.shape,zeros.shape)\n",
    "    BImg = np.stack([bImg,zeros,zeros],axis=2)\n",
    "    \n",
    "cv2.imshow(\"channel B\", BImg)  # 扩展为 BGR 通道\n",
    "\n",
    "cv2.waitKey(0)\n",
    "cv2.destroyAllWindows()  # 释放所有窗口"
   ]
  }
 ],
 "metadata": {
  "kernelspec": {
   "display_name": "Python 3 (ipykernel)",
   "language": "python",
   "name": "python3"
  },
  "language_info": {
   "codemirror_mode": {
    "name": "ipython",
    "version": 3
   },
   "file_extension": ".py",
   "mimetype": "text/x-python",
   "name": "python",
   "nbconvert_exporter": "python",
   "pygments_lexer": "ipython3",
   "version": "3.9.16"
  }
 },
 "nbformat": 4,
 "nbformat_minor": 5
}
