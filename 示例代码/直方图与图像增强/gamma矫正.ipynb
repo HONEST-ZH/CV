{
 "cells": [
  {
   "cell_type": "markdown",
   "id": "c2e4d612",
   "metadata": {},
   "source": [
    "### gamma矫正\n",
    "矫正公式：\n",
    "$f(x)=x^{\\gamma}$"
   ]
  },
  {
   "cell_type": "code",
   "execution_count": 2,
   "id": "651a076f",
   "metadata": {},
   "outputs": [],
   "source": [
    "import cv2\n",
    "import numpy as np\n",
    "\n",
    "img = cv2.imread('image\\space.png') \n",
    "img = cv2.cvtColor(img,cv2.COLOR_BGR2GRAY)\n",
    "img = img/255.\n",
    "img1 = np.power(img/float(np.max(img)), 1.5)\n",
    "\n",
    "img2 = np.power(img/float(np.max(img)), 1/1.5)\n",
    "\n",
    "#print(img1)\n",
    "imgs = np.hstack((img, img1, img2))\n",
    "cv2.imshow('org, gamma=1.5, gamma=1/1.5',imgs)\n",
    "cv2.waitKey(0)\n",
    "cv2.destroyAllWindows()"
   ]
  },
  {
   "cell_type": "markdown",
   "id": "27ee8aba",
   "metadata": {},
   "source": [
    "![title](image\\gamma.png)"
   ]
  }
 ],
 "metadata": {
  "kernelspec": {
   "display_name": "Python 3 (ipykernel)",
   "language": "python",
   "name": "python3"
  },
  "language_info": {
   "codemirror_mode": {
    "name": "ipython",
    "version": 3
   },
   "file_extension": ".py",
   "mimetype": "text/x-python",
   "name": "python",
   "nbconvert_exporter": "python",
   "pygments_lexer": "ipython3",
   "version": "3.9.16"
  }
 },
 "nbformat": 4,
 "nbformat_minor": 5
}
