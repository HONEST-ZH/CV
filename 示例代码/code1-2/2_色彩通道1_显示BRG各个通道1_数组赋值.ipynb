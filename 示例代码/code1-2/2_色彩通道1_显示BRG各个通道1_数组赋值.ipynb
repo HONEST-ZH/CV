{
 "cells": [
  {
   "cell_type": "markdown",
   "id": "0374cee3",
   "metadata": {},
   "source": [
    "### 显示BRG各个通道1_数组赋值"
   ]
  },
  {
   "cell_type": "code",
   "execution_count": 1,
   "id": "171d35ab",
   "metadata": {},
   "outputs": [],
   "source": [
    "    import cv2\n",
    "    import numpy as np\n",
    "    \n",
    "    img1 = cv2.imread(\"image/LenaNoise.png\", flags=1)  # flags=1 读取彩色图像(BGR)\n",
    "    # BGR 通道拆分\n",
    "    ch1, ch2, ch3 = cv2.split(img1)  # 拆分为 BGR 独立通道"
   ]
  },
  {
   "cell_type": "code",
   "execution_count": 3,
   "id": "99bdce72",
   "metadata": {},
   "outputs": [],
   "source": [
    "## 方法1，数组赋值\n",
    "imgZeros = np.zeros_like(img1)  # 创建与 img1 相同形状的黑色图像\n",
    "\n",
    "SysImg = imgZeros\n",
    "SysImg[:,:,0] = ch1  # 在黑色图像模板添加B色分量  \n",
    "\n",
    "# SysImg = imgZeros\n",
    "# SysImg[:,:,1] = ch2  # 在黑色图像模板添加G色分量  \n",
    "\n",
    "# SysImg = imgZeros\n",
    "# SysImg[:,:,2] = ch3  # 在黑色图像模板添加R色分量  \n",
    "\n",
    "cv2.imshow(\"channel\", SysImg)      \n",
    "cv2.waitKey(0)\n",
    "cv2.destroyAllWindows()  # 释放所有窗口"
   ]
  },
  {
   "cell_type": "code",
   "execution_count": null,
   "id": "65d81a33",
   "metadata": {},
   "outputs": [],
   "source": []
  }
 ],
 "metadata": {
  "kernelspec": {
   "display_name": "Python 3 (ipykernel)",
   "language": "python",
   "name": "python3"
  },
  "language_info": {
   "codemirror_mode": {
    "name": "ipython",
    "version": 3
   },
   "file_extension": ".py",
   "mimetype": "text/x-python",
   "name": "python",
   "nbconvert_exporter": "python",
   "pygments_lexer": "ipython3",
   "version": "3.9.16"
  }
 },
 "nbformat": 4,
 "nbformat_minor": 5
}
