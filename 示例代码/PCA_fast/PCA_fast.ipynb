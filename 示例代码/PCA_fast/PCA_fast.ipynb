{
 "cells": [
  {
   "cell_type": "code",
   "execution_count": 1,
   "metadata": {},
   "outputs": [
    {
     "ename": "UnboundLocalError",
     "evalue": "local variable 'eigenface' referenced before assignment",
     "output_type": "error",
     "traceback": [
      "\u001b[1;31m---------------------------------------------------------------------------\u001b[0m",
      "\u001b[1;31mUnboundLocalError\u001b[0m                         Traceback (most recent call last)",
      "Input \u001b[1;32mIn [1]\u001b[0m, in \u001b[0;36m<cell line: 89>\u001b[1;34m()\u001b[0m\n\u001b[0;32m     86\u001b[0m     \u001b[38;5;28mprint\u001b[39m(recognize(testimage, eigenface, m, A))\n\u001b[0;32m     89\u001b[0m \u001b[38;5;28;01mif\u001b[39;00m \u001b[38;5;18m__name__\u001b[39m \u001b[38;5;241m==\u001b[39m \u001b[38;5;124m'\u001b[39m\u001b[38;5;124m__main__\u001b[39m\u001b[38;5;124m'\u001b[39m:\n\u001b[1;32m---> 90\u001b[0m     \u001b[43mexample\u001b[49m\u001b[43m(\u001b[49m\u001b[38;5;124;43m'\u001b[39;49m\u001b[38;5;124;43mTestDatabase/6.jpg\u001b[39;49m\u001b[38;5;124;43m'\u001b[39;49m\u001b[43m)\u001b[49m\n",
      "Input \u001b[1;32mIn [1]\u001b[0m, in \u001b[0;36mexample\u001b[1;34m(filename)\u001b[0m\n\u001b[0;32m     81\u001b[0m \u001b[38;5;28;01mdef\u001b[39;00m \u001b[38;5;21mexample\u001b[39m(filename):\n\u001b[0;32m     82\u001b[0m     T \u001b[38;5;241m=\u001b[39m load_data(\u001b[38;5;124m'\u001b[39m\u001b[38;5;124mTrainDatabase\u001b[39m\u001b[38;5;124m'\u001b[39m)\n\u001b[1;32m---> 83\u001b[0m     eigenface, m, A \u001b[38;5;241m=\u001b[39m \u001b[43mPCA\u001b[49m\u001b[43m(\u001b[49m\u001b[43mT\u001b[49m\u001b[43m)\u001b[49m\n\u001b[0;32m     84\u001b[0m     testimage \u001b[38;5;241m=\u001b[39m filename\n\u001b[0;32m     85\u001b[0m     \u001b[38;5;28mprint\u001b[39m(testimage)\n",
      "Input \u001b[1;32mIn [1]\u001b[0m, in \u001b[0;36mPCA\u001b[1;34m(T)\u001b[0m\n\u001b[0;32m     40\u001b[0m D \u001b[38;5;241m=\u001b[39m D[:,idx]\n\u001b[0;32m     41\u001b[0m \u001b[38;5;66;03m# 3、找到T的投影矩阵C\u001b[39;00m\n\u001b[0;32m     42\u001b[0m \u001b[38;5;66;03m# 计算 A *AT的特征向量\u001b[39;00m\n\u001b[0;32m     43\u001b[0m \u001b[38;5;66;03m# eigenface = A * L_eig\u001b[39;00m\n\u001b[0;32m     44\u001b[0m \u001b[38;5;66;03m# eigenface = A * D\u001b[39;00m\n\u001b[1;32m---> 45\u001b[0m eigenface \u001b[38;5;241m=\u001b[39m \u001b[43meigenface\u001b[49m[:,:PCA_NUM]\n\u001b[0;32m     46\u001b[0m \u001b[38;5;28;01mreturn\u001b[39;00m eigenface, m, A\n",
      "\u001b[1;31mUnboundLocalError\u001b[0m: local variable 'eigenface' referenced before assignment"
     ]
    }
   ],
   "source": [
    "import numpy as np\n",
    "import cv2 as cv\n",
    "import os\n",
    "\n",
    "IMAGE_SIZE = (50, 50)\n",
    "\n",
    "PCA_NUM = 20\n",
    "# 1、加载训练集中的脸，转为一个M行N列矩阵T\n",
    "def load_data(path):\n",
    "    # 查看路径下所有文件\n",
    "    train_file_path = os.listdir(path)\n",
    "    # 计算有几个文件（图片命名都是以 序号.jpg方式）减去Thumbs.db\n",
    "    file_number = len(train_file_path) - 1\n",
    "    T = []\n",
    "    # 把所有图片转为1-D并存入T中\n",
    "    for i in range(1, file_number + 1):\n",
    "        image = cv.imread(path + '/' + str(i) + '.jpg', cv.IMREAD_GRAYSCALE)\n",
    "        image = cv.resize(image, IMAGE_SIZE)\n",
    "        # 转为1-D\n",
    "        image = image.reshape(image.size, 1)\n",
    "        T.append(image)\n",
    "    T = np.array(T)\n",
    "    # 不能直接T.reshape(T.shape[1],T.shape[0]) 这样会打乱顺序，\n",
    "    T = T.reshape(T.shape[0], T.shape[1])\n",
    "    return np.mat(T).T\n",
    "\n",
    "\n",
    "def PCA(T):\n",
    "    # 2、对T进行0均值化\n",
    "    # 把均值变为0 axis = 1代表对各行求均值\n",
    "    m = T.mean(axis=1)\n",
    "    A = T - m\n",
    "\n",
    "\n",
    "    # 计算 A.T * A 的特征向量和特征值, 其中 V 是特征值，D 是特征向量\n",
    "    L = (A.T) * (A)\n",
    "    V, D = np.linalg.eig(L)\n",
    "    idx = V.argsort()[::-1]\n",
    "    V = V[idx]\n",
    "    D = D[:,idx]\n",
    "\n",
    "    # 计算 A *AT的特征向量\n",
    "    eigenface = A * D\n",
    "    eigenface = eigenface[:,:PCA_NUM]\n",
    "    return eigenface, m, A\n",
    "\n",
    "\n",
    "def recognize(testImage, eigenface, m, A):\n",
    "    _, trainNumber = np.shape(A)\n",
    "    # 4、计算投影后的矩阵P\n",
    "    # 投影到特征脸后的\n",
    "    projectedImage = eigenface.T * (A)\n",
    "    # 可解决中文路径不能打开问题\n",
    "    testImageArray = cv.imdecode(np.fromfile(testImage, dtype=np.uint8), cv.IMREAD_GRAYSCALE)\n",
    "    # 转为1-D\n",
    "    testImageArray = cv.resize(testImageArray, IMAGE_SIZE)\n",
    "    testImageArray = testImageArray.reshape(testImageArray.size, 1)\n",
    "    testImageArray = np.mat(np.array(testImageArray))\n",
    "    differenceTestImage = testImageArray - m\n",
    "\n",
    "    projectedTestImage = eigenface.T * (differenceTestImage)\n",
    "    distance = []\n",
    "    # 6、计算test_P和P中每个样本的距离，选出最近的那个即可\n",
    "    for i in range(0, trainNumber):\n",
    "        q = projectedImage[:, i]\n",
    "        temp = np.linalg.norm(projectedTestImage - q)\n",
    "        distance.append(temp)\n",
    "\n",
    "    minDistance = min(distance)\n",
    "    index = distance.index(minDistance)\n",
    "    print('similar index is ', index + 1)\n",
    "    cv.imshow(\"test data\", cv.imread(testImage, cv.IMREAD_GRAYSCALE))\n",
    "\n",
    "    cv.imshow(\"recognize result\", cv.imread('./TrainDatabase' + '/' + str(index + 1) + '.jpg', cv.IMREAD_GRAYSCALE))\n",
    "    cv.waitKey()\n",
    "    return index + 1\n",
    "\n",
    "\n",
    "# 进行人脸识别主程序\n",
    "def example(filename):\n",
    "    T = load_data('TrainDatabase')\n",
    "    eigenface, m, A = PCA(T)\n",
    "    testimage = filename\n",
    "    print(testimage)\n",
    "    print(recognize(testimage, eigenface, m, A))\n",
    "\n",
    "\n",
    "if __name__ == '__main__':\n",
    "    example('TestDatabase/6.jpg')\n"
   ]
  },
  {
   "cell_type": "code",
   "execution_count": null,
   "metadata": {},
   "outputs": [],
   "source": []
  }
 ],
 "metadata": {
  "kernelspec": {
   "display_name": "Python 3 (ipykernel)",
   "language": "python",
   "name": "python3"
  },
  "language_info": {
   "codemirror_mode": {
    "name": "ipython",
    "version": 3
   },
   "file_extension": ".py",
   "mimetype": "text/x-python",
   "name": "python",
   "nbconvert_exporter": "python",
   "pygments_lexer": "ipython3",
   "version": "3.8.13"
  },
  "varInspector": {
   "cols": {
    "lenName": 16,
    "lenType": 16,
    "lenVar": 40
   },
   "kernels_config": {
    "python": {
     "delete_cmd_postfix": "",
     "delete_cmd_prefix": "del ",
     "library": "var_list.py",
     "varRefreshCmd": "print(var_dic_list())"
    },
    "r": {
     "delete_cmd_postfix": ") ",
     "delete_cmd_prefix": "rm(",
     "library": "var_list.r",
     "varRefreshCmd": "cat(var_dic_list()) "
    }
   },
   "types_to_exclude": [
    "module",
    "function",
    "builtin_function_or_method",
    "instance",
    "_Feature"
   ],
   "window_display": false
  }
 },
 "nbformat": 4,
 "nbformat_minor": 2
}
