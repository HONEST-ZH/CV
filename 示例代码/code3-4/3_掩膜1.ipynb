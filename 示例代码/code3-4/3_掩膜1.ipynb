{
 "cells": [
  {
   "cell_type": "code",
   "execution_count": null,
   "id": "a5db43a1",
   "metadata": {},
   "outputs": [],
   "source": [
    "import cv2\n",
    "import numpy as np"
   ]
  },
  {
   "cell_type": "code",
   "execution_count": null,
   "id": "d02ce4d2",
   "metadata": {},
   "outputs": [],
   "source": [
    "def roi_mask(img, vertices):\n",
    "    mask = np.zeros_like(img)\n",
    "\n",
    "  #defining a 3 channel or 1 channel color to fill the mask with depending on the input image\n",
    "    if len(img.shape) > 2:\n",
    "        channel_count = img.shape[2]  # i.e. 3 or 4 depending on your image\n",
    "        mask_color = (255,) * channel_count\n",
    "    else:\n",
    "        mask_color = 255\n",
    "\n",
    "    cv2.fillPoly(mask, vertices, mask_color)\n",
    "    masked_img = cv2.bitwise_and(img, mask)\n",
    "    return masked_img"
   ]
  },
  {
   "cell_type": "code",
   "execution_count": null,
   "id": "446842f3",
   "metadata": {},
   "outputs": [],
   "source": [
    "def showimg(name,img):\n",
    "    cv2.imshow(name,img)\n",
    "    cv2.waitKey(0)\n",
    "    cv2.destroyAllWindows()"
   ]
  },
  {
   "cell_type": "code",
   "execution_count": null,
   "id": "a15aa7a3",
   "metadata": {},
   "outputs": [],
   "source": [
    "img = cv2.imread('image\\lane.jpg')\n",
    "img = cv2.cvtColor(img, cv2.COLOR_BGR2GRAY)\n",
    "\n",
    "h = img.shape[0]\n",
    "w = img.shape[1]\n",
    "print(h,w)\n",
    "roi_vtx = np.array([[(0, h), (460, 325), (520, 325), (w, h)]])\n",
    "img_mask = roi_mask(img, roi_vtx)\n",
    "showimg('orgimg',img)\n",
    "showimg('mymask',img_mask)\n"
   ]
  },
  {
   "cell_type": "code",
   "execution_count": null,
   "id": "44efc9c0",
   "metadata": {},
   "outputs": [],
   "source": []
  }
 ],
 "metadata": {
  "kernelspec": {
   "display_name": "Python 3 (ipykernel)",
   "language": "python",
   "name": "python3"
  },
  "language_info": {
   "codemirror_mode": {
    "name": "ipython",
    "version": 3
   },
   "file_extension": ".py",
   "mimetype": "text/x-python",
   "name": "python",
   "nbconvert_exporter": "python",
   "pygments_lexer": "ipython3",
   "version": "3.9.16"
  }
 },
 "nbformat": 4,
 "nbformat_minor": 5
}
