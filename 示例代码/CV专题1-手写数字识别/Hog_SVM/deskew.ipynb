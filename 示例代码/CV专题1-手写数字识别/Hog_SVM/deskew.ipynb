{
 "cells": [
  {
   "cell_type": "code",
   "execution_count": 3,
   "id": "a0486e2a",
   "metadata": {
    "ExecuteTime": {
     "end_time": "2024-03-25T05:07:08.477348100Z",
     "start_time": "2024-03-25T05:07:07.902428100Z"
    }
   },
   "outputs": [],
   "source": [
    "import cv2\n",
    "import numpy as np"
   ]
  },
  {
   "cell_type": "code",
   "execution_count": 4,
   "id": "14c40ad9",
   "metadata": {
    "ExecuteTime": {
     "end_time": "2024-03-25T05:07:09.420473300Z",
     "start_time": "2024-03-25T05:07:09.404514Z"
    }
   },
   "outputs": [],
   "source": [
    "#=============抗扭斜函数=================\n",
    "def deskew(img):\n",
    "    m = cv2.moments(img)\n",
    "    if abs(m['mu02']) < 1e-2:\n",
    "        return img.copy()\n",
    "    skew = m['mu11']/m['mu02']\n",
    "    s=img.shape[0]\n",
    "    M = np.float32([[1, skew, -0.5*s*skew], [0, 1, 0]])\n",
    "    affine_flags = cv2.WARP_INVERSE_MAP|cv2.INTER_LINEAR\n",
    "    size=img.shape[::-1]   \n",
    "    img = cv2.warpAffine(img,M,size,flags=affine_flags)\n",
    "    return img"
   ]
  },
  {
   "cell_type": "code",
   "execution_count": 5,
   "id": "60b0067c",
   "metadata": {
    "ExecuteTime": {
     "end_time": "2024-03-25T05:41:09.058466300Z",
     "start_time": "2024-03-25T05:07:10.503466200Z"
    }
   },
   "outputs": [],
   "source": [
    "#=============主程序=================\n",
    "img=cv2.imread(\"rotatex.png\",0)\n",
    "cv2.imshow(\"original\",img)\n",
    "img=deskew(img)\n",
    "cv2.imshow(\"result\",img)\n",
    "cv2.imwrite(\"re.bmp\",img)\n",
    "cv2.waitKey()\n",
    "cv2.destroyAllWindows()"
   ]
  },
  {
   "cell_type": "code",
   "execution_count": null,
   "outputs": [],
   "source": [],
   "metadata": {
    "collapsed": false
   },
   "id": "83bc58563103776"
  }
 ],
 "metadata": {
  "kernelspec": {
   "display_name": "Python 3 (ipykernel)",
   "language": "python",
   "name": "python3"
  },
  "language_info": {
   "codemirror_mode": {
    "name": "ipython",
    "version": 3
   },
   "file_extension": ".py",
   "mimetype": "text/x-python",
   "name": "python",
   "nbconvert_exporter": "python",
   "pygments_lexer": "ipython3",
   "version": "3.9.16"
  }
 },
 "nbformat": 4,
 "nbformat_minor": 5
}
