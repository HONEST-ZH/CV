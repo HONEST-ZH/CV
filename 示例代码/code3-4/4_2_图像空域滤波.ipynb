{
 "cells": [
  {
   "cell_type": "code",
   "execution_count": 21,
   "metadata": {
    "ExecuteTime": {
     "end_time": "2024-03-11T17:46:25.048312900Z",
     "start_time": "2024-03-11T17:46:25.037961300Z"
    }
   },
   "outputs": [],
   "source": [
    "import cv2\n",
    "import matplotlib.pyplot as plt\n",
    "import numpy as np\n",
    "import math"
   ]
  },
  {
   "cell_type": "code",
   "execution_count": 22,
   "metadata": {
    "ExecuteTime": {
     "end_time": "2024-03-11T17:46:25.057691400Z",
     "start_time": "2024-03-11T17:46:25.045082300Z"
    }
   },
   "outputs": [],
   "source": [
    "def myfilter(img,kernel):\n",
    "    h=img.shape[0]\n",
    "    w=img.shape[1]\n",
    "    img1=np.zeros((h,w),np.uint8)\n",
    "    for i in range (1,h-1):\n",
    "        for j in range (1,w-1):\n",
    "            sum=0\n",
    "            for k in range(-1,2):\n",
    "                for l in range(-1,2):\n",
    "                    sum+=img[i+k,j+l]*kernel[k+1,l+1]   \n",
    "            img1[i,j]=sum\n",
    "    return img1"
   ]
  },
  {
   "cell_type": "code",
   "execution_count": 23,
   "metadata": {
    "ExecuteTime": {
     "end_time": "2024-03-11T17:46:25.057691400Z",
     "start_time": "2024-03-11T17:46:25.051307100Z"
    }
   },
   "outputs": [],
   "source": [
    "def show(img):\n",
    "    cv2.imshow('img',img)\n",
    "    cv2.waitKey(0)\n",
    "    cv2.destroyAllWindows()"
   ]
  },
  {
   "cell_type": "code",
   "execution_count": 24,
   "metadata": {
    "ExecuteTime": {
     "end_time": "2024-03-11T17:46:25.097906700Z",
     "start_time": "2024-03-11T17:46:25.058688600Z"
    }
   },
   "outputs": [
    {
     "ename": "AttributeError",
     "evalue": "'NoneType' object has no attribute 'shape'",
     "output_type": "error",
     "traceback": [
      "\u001B[1;31m---------------------------------------------------------------------------\u001B[0m",
      "\u001B[1;31mAttributeError\u001B[0m                            Traceback (most recent call last)",
      "Cell \u001B[1;32mIn[24], line 20\u001B[0m\n\u001B[0;32m      7\u001B[0m kernel \u001B[38;5;241m=\u001B[39m np\u001B[38;5;241m.\u001B[39marray([[\u001B[38;5;241m0\u001B[39m,  \u001B[38;5;241m0.2\u001B[39m,  \u001B[38;5;241m0\u001B[39m],\n\u001B[0;32m      8\u001B[0m                     [\u001B[38;5;241m0.2\u001B[39m, \u001B[38;5;241m0\u001B[39m,   \u001B[38;5;241m0.2\u001B[39m],\n\u001B[0;32m      9\u001B[0m                     [\u001B[38;5;241m0\u001B[39m,  \u001B[38;5;241m0.2\u001B[39m,  \u001B[38;5;241m0\u001B[39m]])\n\u001B[0;32m     10\u001B[0m \u001B[38;5;66;03m# kernel = np.array([[-1, -1, -1],\u001B[39;00m\n\u001B[0;32m     11\u001B[0m \u001B[38;5;66;03m#                    [-1,  9, -1],\u001B[39;00m\n\u001B[0;32m     12\u001B[0m \u001B[38;5;66;03m#                    [-1, -1, -1]])\u001B[39;00m\n\u001B[1;32m   (...)\u001B[0m\n\u001B[0;32m     17\u001B[0m \u001B[38;5;66;03m#                    [0.11831801, 0.14776132, 0.11831801],\u001B[39;00m\n\u001B[0;32m     18\u001B[0m \u001B[38;5;66;03m#                    [0.09474166, 0.11831801, 0.09474166]])\u001B[39;00m\n\u001B[1;32m---> 20\u001B[0m filtered_img \u001B[38;5;241m=\u001B[39m \u001B[43mmyfilter\u001B[49m\u001B[43m(\u001B[49m\u001B[43mimg\u001B[49m\u001B[43m,\u001B[49m\u001B[43mkernel\u001B[49m\u001B[43m)\u001B[49m\n\u001B[0;32m     21\u001B[0m \u001B[38;5;66;03m#filtered_img = cv2.filter2D(img.astype('float32'),-1,kernel)\u001B[39;00m\n\u001B[0;32m     22\u001B[0m \u001B[38;5;66;03m#filtered_img =(np.uint8)(filtered_img)\u001B[39;00m\n\u001B[0;32m     23\u001B[0m \u001B[38;5;66;03m#filtered_img = filtered_img+128\u001B[39;00m\n\u001B[0;32m     24\u001B[0m \u001B[38;5;28mprint\u001B[39m(filtered_img)\n",
      "Cell \u001B[1;32mIn[22], line 2\u001B[0m, in \u001B[0;36mmyfilter\u001B[1;34m(img, kernel)\u001B[0m\n\u001B[0;32m      1\u001B[0m \u001B[38;5;28;01mdef\u001B[39;00m \u001B[38;5;21mmyfilter\u001B[39m(img,kernel):\n\u001B[1;32m----> 2\u001B[0m     h\u001B[38;5;241m=\u001B[39m\u001B[43mimg\u001B[49m\u001B[38;5;241;43m.\u001B[39;49m\u001B[43mshape\u001B[49m[\u001B[38;5;241m0\u001B[39m]\n\u001B[0;32m      3\u001B[0m     w\u001B[38;5;241m=\u001B[39mimg\u001B[38;5;241m.\u001B[39mshape[\u001B[38;5;241m1\u001B[39m]\n\u001B[0;32m      4\u001B[0m     img1\u001B[38;5;241m=\u001B[39mnp\u001B[38;5;241m.\u001B[39mzeros((h,w),np\u001B[38;5;241m.\u001B[39muint8)\n",
      "\u001B[1;31mAttributeError\u001B[0m: 'NoneType' object has no attribute 'shape'"
     ]
    }
   ],
   "source": [
    "#img = cv2.imread('LenaNoise.png',cv2.IMREAD_GRAYSCALE)\n",
    "#img = cv2.imread('image\\LenaNoise.png')\n",
    "img = cv2.imread('image\\girl.png')\n",
    "#img = cv2.imread('image\\yu1.png')\n",
    "img = cv2.cvtColor(img,cv2.COLOR_BGR2GRAY)\n",
    "#show(filtered_img)\n",
    "kernel = np.array([[0,  0.2,  0],\n",
    "                    [0.2, 0,   0.2],\n",
    "                    [0,  0.2,  0]])\n",
    "# kernel = np.array([[-1, -1, -1],\n",
    "#                    [-1,  9, -1],\n",
    "#                    [-1, -1, -1]])\n",
    "# kernel = np.array([[1, 0, 0],\n",
    "#                    [0, 0, 0],\n",
    "#                    [0, 0, -1]])\n",
    "# kernel = np.array([[0.09474166, 0.11831801, 0.09474166],\n",
    "#                    [0.11831801, 0.14776132, 0.11831801],\n",
    "#                    [0.09474166, 0.11831801, 0.09474166]])\n",
    "\n",
    "filtered_img = myfilter(img,kernel)\n",
    "#filtered_img = cv2.filter2D(img.astype('float32'),-1,kernel)\n",
    "#filtered_img =(np.uint8)(filtered_img)\n",
    "#filtered_img = filtered_img+128\n",
    "print(filtered_img)\n",
    "show(filtered_img)"
   ]
  },
  {
   "cell_type": "code",
   "execution_count": null,
   "metadata": {
    "ExecuteTime": {
     "start_time": "2024-03-11T17:46:25.094914700Z"
    }
   },
   "outputs": [],
   "source": []
  }
 ],
 "metadata": {
  "kernelspec": {
   "display_name": "Python 3 (ipykernel)",
   "language": "python",
   "name": "python3"
  },
  "language_info": {
   "codemirror_mode": {
    "name": "ipython",
    "version": 3
   },
   "file_extension": ".py",
   "mimetype": "text/x-python",
   "name": "python",
   "nbconvert_exporter": "python",
   "pygments_lexer": "ipython3",
   "version": "3.9.16"
  },
  "varInspector": {
   "cols": {
    "lenName": 16,
    "lenType": 16,
    "lenVar": 40
   },
   "kernels_config": {
    "python": {
     "delete_cmd_postfix": "",
     "delete_cmd_prefix": "del ",
     "library": "var_list.py",
     "varRefreshCmd": "print(var_dic_list())"
    },
    "r": {
     "delete_cmd_postfix": ") ",
     "delete_cmd_prefix": "rm(",
     "library": "var_list.r",
     "varRefreshCmd": "cat(var_dic_list()) "
    }
   },
   "types_to_exclude": [
    "module",
    "function",
    "builtin_function_or_method",
    "instance",
    "_Feature"
   ],
   "window_display": false
  }
 },
 "nbformat": 4,
 "nbformat_minor": 2
}
