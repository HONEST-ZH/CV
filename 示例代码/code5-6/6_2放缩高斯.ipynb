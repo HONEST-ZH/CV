{
 "cells": [
  {
   "cell_type": "code",
   "execution_count": 1,
   "metadata": {},
   "outputs": [],
   "source": [
    "import cv2\n",
    "import matplotlib.pyplot as plt\n",
    "import numpy as np\n",
    "import math"
   ]
  },
  {
   "cell_type": "code",
   "execution_count": 2,
   "metadata": {},
   "outputs": [],
   "source": [
    "def myfilter(img,kernel):\n",
    "    h=img.shape[0]\n",
    "    w=img.shape[1]\n",
    "    img1=np.zeros((h,w),np.uint8)\n",
    "    for i in range (1,h-1):\n",
    "        for j in range (1,w-1):\n",
    "            sum=0\n",
    "            for k in range(-1,2):\n",
    "                for l in range(-1,2):\n",
    "                    sum+=img[i+k,j+l]*kernel[k+1,l+1]   \n",
    "            img1[i,j]=sum\n",
    "    return img1"
   ]
  },
  {
   "cell_type": "code",
   "execution_count": 3,
   "metadata": {},
   "outputs": [],
   "source": [
    "def show(img):\n",
    "    cv2.imshow('img',img)\n",
    "    cv2.waitKey(0)\n",
    "    cv2.destroyAllWindows()"
   ]
  },
  {
   "cell_type": "code",
   "execution_count": 4,
   "metadata": {},
   "outputs": [],
   "source": [
    "def gausskernel(size,sigma):\n",
    "    #sigma=1.5\n",
    "    gausskernel=np.zeros((size,size),np.float32)\n",
    "    for i in range (size):\n",
    "        for j in range (size):\n",
    "            norm=math.pow(i-1,2)+pow(j-1,2)\n",
    "            gausskernel[i,j]=math.exp(-norm/(2*math.pow(sigma,2)))/(2*math.pi*sigma**2) # 求高斯卷积\n",
    "    sum=np.sum(gausskernel)   # 求和\n",
    "    kernel=gausskernel/sum   # 归一化\n",
    "    return kernel"
   ]
  },
  {
   "cell_type": "code",
   "execution_count": 5,
   "metadata": {},
   "outputs": [],
   "source": [
    "#img = cv2.imread('LenaNoise.png',cv2.IMREAD_GRAYSCALE)\n",
    "#img = cv2.imread('LenaNoise.png')\n",
    "img = cv2.imread('image\\girl.png')\n",
    "#img = cv2.imread('yu1.png')\n",
    "img = cv2.cvtColor(img,cv2.COLOR_RGB2GRAY)"
   ]
  },
  {
   "cell_type": "code",
   "execution_count": 6,
   "metadata": {},
   "outputs": [],
   "source": [
    "filtered_img1 = cv2.blur(img,(3,3))\n",
    "h=img.shape[0]\n",
    "w=img.shape[1]\n",
    "w2=(np.uint8)(w/3)\n",
    "h2 = (np.uint8)(h/3)\n",
    "img_s=cv2.resize(img,(w2,h2))\n",
    "img_s_f = cv2.blur(img_s,(3,3))\n",
    "filtered_img2 = cv2.resize(img_s_f,(w,h))\n",
    "#show(filtered_img2)\n",
    "imags = np.hstack((img,filtered_img1, filtered_img2))\n",
    "show(imags)"
   ]
  },
  {
   "cell_type": "code",
   "execution_count": null,
   "metadata": {},
   "outputs": [],
   "source": []
  }
 ],
 "metadata": {
  "kernelspec": {
   "display_name": "Python 3 (ipykernel)",
   "language": "python",
   "name": "python3"
  },
  "language_info": {
   "codemirror_mode": {
    "name": "ipython",
    "version": 3
   },
   "file_extension": ".py",
   "mimetype": "text/x-python",
   "name": "python",
   "nbconvert_exporter": "python",
   "pygments_lexer": "ipython3",
   "version": "3.8.13"
  },
  "varInspector": {
   "cols": {
    "lenName": 16,
    "lenType": 16,
    "lenVar": 40
   },
   "kernels_config": {
    "python": {
     "delete_cmd_postfix": "",
     "delete_cmd_prefix": "del ",
     "library": "var_list.py",
     "varRefreshCmd": "print(var_dic_list())"
    },
    "r": {
     "delete_cmd_postfix": ") ",
     "delete_cmd_prefix": "rm(",
     "library": "var_list.r",
     "varRefreshCmd": "cat(var_dic_list()) "
    }
   },
   "types_to_exclude": [
    "module",
    "function",
    "builtin_function_or_method",
    "instance",
    "_Feature"
   ],
   "window_display": false
  }
 },
 "nbformat": 4,
 "nbformat_minor": 2
}
